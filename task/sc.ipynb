{
 "cells": [
  {
   "cell_type": "code",
   "execution_count": 8,
   "metadata": {},
   "outputs": [
    {
     "name": "stdout",
     "output_type": "stream",
     "text": [
      "    New Data Received at : 2022-06-07 17:19:42.714867 \\t\\t\\t\\t\\t\\t\\t\\t\\t\\t\\t\\t\\t\\t\\t\\t\\t\\t\\t\\t\\t\\t\\t\\t\\t\\t\\t\\t\\t\\t\\t\\t\\t\\t\\t\\t\\t\n",
      "0    $\\t1\\tSECURE\\tSAM1.0\\tDT\\tH\\t8.64337E+14\\tTN04...                                                                          \n",
      "1    $\\t1\\tSECURE\\tSAM1.0\\tDT\\tH\\t8.64337E+14\\tTN04...                                                                          \n",
      "2    $\\t1\\tSECURE\\tSAM1.0\\tDT\\tH\\t8.64337E+14\\tTN04...                                                                          \n",
      "3    $\\t1\\tSECURE\\tSAM1.0\\tDT\\tL\\t8.64337E+14\\tTN04...                                                                          \n",
      "4    $\\t1\\tSECURE\\tSAM1.0\\tDT\\tL\\t8.64337E+14\\tTN04...                                                                          \n",
      "..                                                 ...                                                                          \n",
      "217  $\\t1\\tSECURE\\tSAM1.0\\tDT\\tL\\t8.64337E+14\\tTN04...                                                                          \n",
      "218  New Data Received at : 2022-06-07 17:43:05.095...                                                                          \n",
      "219  $\\t1\\tSECURE\\tSAM1.0\\tDT\\tL\\t8.64337E+14\\tTN04...                                                                          \n",
      "220  New Data Received at : 2022-06-07 17:43:19.118...                                                                          \n",
      "221  $\\t1\\tSECURE\\tSAM1.0\\tDT\\tL\\t8.64337E+14\\tTN04...                                                                          \n",
      "\n",
      "[222 rows x 1 columns]\n"
     ]
    }
   ],
   "source": [
    "import pandas as pd\n",
    "log = pd.read_csv(\"log_file.txt\")\n",
    "data=pd.DataFrame(log)\n",
    "print(data)\n",
    " \n",
    "\n",
    "##.to_csv(\"logfile.csv\",index=False,sep=\" \")\n",
    "##log.to_csv(\"Logfile.csv\",index=False,sep=\",\")"
   ]
  },
  {
   "cell_type": "code",
   "execution_count": 33,
   "metadata": {},
   "outputs": [
    {
     "name": "stdout",
     "output_type": "stream",
     "text": [
      "['$', '1\\tSECURE\\tSAM1.0\\tDT\\tL\\t8.64337E+14\\tTN04E1234\\t0\\t6012080\\t2703\\t0\\t0\\t0\\t0\\t0\\t0\\t0\\t0\\t0\\t0\\tBSNL\\t1\\t1\\t15\\t0\\t0\\tW\\t0\\t0\\t0\\t0\\t0\\t0\\t0\\t0\\t161\\t99*\\n']\n"
     ]
    }
   ],
   "source": [
    "with open('log_file.txt','r') as file:\n",
    "    clogdetails = file.readlines()\n",
    "    for x in clogdetails:\n",
    "        line=x.split(maxsplit=1)\n",
    "        ##print(x)\n",
    "print(line)"
   ]
  },
  {
   "cell_type": "code",
   "execution_count": 22,
   "metadata": {},
   "outputs": [
    {
     "data": {
      "text/plain": [
       "'New Data Received at : 2022-06-07 17:19:42.714867 \\t\\t\\t\\t\\t\\t\\t\\t\\t\\t\\t\\t\\t\\t\\t\\t\\t\\t\\t\\t\\t\\t\\t\\t\\t\\t\\t\\t\\t\\t\\t\\t\\t\\t\\t\\t\\t\\n\\t\\t\\t\\t\\t\\t\\t\\t\\t\\t\\t\\t\\t\\t\\t\\t\\t\\t\\t\\t\\t\\t\\t\\t\\t\\t\\t\\t\\t\\t\\t\\t\\t\\t\\t\\t\\t\\n$\\t1\\tSECURE\\tSAM1.0\\tDT\\tH\\t8.64337E+14\\tTN04E1234\\t0\\t0\\t0\\t0\\t0\\t0\\t0\\t0\\t0\\t0\\t0\\t0\\t0\\tBSN'"
      ]
     },
     "execution_count": 22,
     "metadata": {},
     "output_type": "execute_result"
    }
   ],
   "source": [
    "from pathlib import Path\n",
    "import pandas as pd\n",
    "log=Path('log_file.txt').read_text()\n",
    "log[0:200]\n",
    "##countriesStr.to_csv(\"logfile1.csv\",index=False,sep=\" \")"
   ]
  },
  {
   "cell_type": "code",
   "execution_count": null,
   "metadata": {},
   "outputs": [],
   "source": []
  }
 ],
 "metadata": {
  "kernelspec": {
   "display_name": "Python 3 (ipykernel)",
   "language": "python",
   "name": "python3"
  },
  "language_info": {
   "codemirror_mode": {
    "name": "ipython",
    "version": 3
   },
   "file_extension": ".py",
   "mimetype": "text/x-python",
   "name": "python",
   "nbconvert_exporter": "python",
   "pygments_lexer": "ipython3",
   "version": "3.9.7"
  },
  "vscode": {
   "interpreter": {
    "hash": "0a3813d5e0a873d7fd2d54cdf3338d155b3481a77e395397d329979b35d02d0f"
   }
  }
 },
 "nbformat": 4,
 "nbformat_minor": 2
}
